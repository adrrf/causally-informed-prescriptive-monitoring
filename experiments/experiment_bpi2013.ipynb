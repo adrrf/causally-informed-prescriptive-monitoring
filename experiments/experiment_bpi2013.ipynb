{
 "cells": [
  {
   "cell_type": "markdown",
   "metadata": {},
   "source": [
    "# CAUSAL INFORMED PREDICTIVE MONITORING\n",
    "---\n",
    "## Dataset: BPI Challenge 2013"
   ]
  },
  {
   "cell_type": "markdown",
   "metadata": {},
   "source": [
    "### imports"
   ]
  },
  {
   "cell_type": "code",
   "execution_count": null,
   "metadata": {},
   "outputs": [],
   "source": [
    "import pandas as pd\n",
    "import missingno as msno\n",
    "import causality\n",
    "import elp\n",
    "import os\n",
    "import json"
   ]
  },
  {
   "cell_type": "markdown",
   "metadata": {},
   "source": [
    "### load the data\n"
   ]
  },
  {
   "cell_type": "code",
   "execution_count": null,
   "metadata": {},
   "outputs": [],
   "source": [
    "log = pd.read_csv(\n",
    "    \"../data/BPI_Challenge_2013_incident.csv\", sep=\";\", encoding=\"iso-8859-1\"\n",
    ")"
   ]
  },
  {
   "cell_type": "code",
   "execution_count": null,
   "metadata": {},
   "outputs": [],
   "source": [
    "log.head()"
   ]
  },
  {
   "cell_type": "code",
   "execution_count": null,
   "metadata": {},
   "outputs": [],
   "source": [
    "log.describe()"
   ]
  },
  {
   "cell_type": "code",
   "execution_count": null,
   "metadata": {},
   "outputs": [],
   "source": [
    "msno.matrix(log)"
   ]
  },
  {
   "cell_type": "code",
   "execution_count": null,
   "metadata": {},
   "outputs": [],
   "source": [
    "log[\"Involved ST Function Div\"].fillna(\"UNKNOWN\", inplace=True)"
   ]
  },
  {
   "cell_type": "code",
   "execution_count": null,
   "metadata": {},
   "outputs": [],
   "source": [
    "msno.matrix(log)"
   ]
  },
  {
   "cell_type": "code",
   "execution_count": null,
   "metadata": {},
   "outputs": [],
   "source": [
    "log.rename(columns={\"SR Number\": \"id\", \"Change Date+Time\": \"timestamp\"}, inplace=True)"
   ]
  },
  {
   "cell_type": "code",
   "execution_count": null,
   "metadata": {},
   "outputs": [],
   "source": [
    "log"
   ]
  },
  {
   "cell_type": "code",
   "execution_count": null,
   "metadata": {},
   "outputs": [],
   "source": [
    "log[\"id\"].describe()"
   ]
  },
  {
   "cell_type": "code",
   "execution_count": null,
   "metadata": {},
   "outputs": [],
   "source": [
    "log[\"timestamp\"]"
   ]
  },
  {
   "cell_type": "markdown",
   "metadata": {},
   "source": [
    "### preprocessing and encode"
   ]
  },
  {
   "cell_type": "code",
   "execution_count": null,
   "metadata": {},
   "outputs": [],
   "source": [
    "log = elp.EventLog(log, \"id\", \"timestamp\")"
   ]
  },
  {
   "cell_type": "code",
   "execution_count": null,
   "metadata": {},
   "outputs": [],
   "source": [
    "log.df.columns"
   ]
  },
  {
   "cell_type": "code",
   "execution_count": null,
   "metadata": {},
   "outputs": [],
   "source": [
    "log.df.head()"
   ]
  },
  {
   "cell_type": "code",
   "execution_count": null,
   "metadata": {},
   "outputs": [],
   "source": [
    "colums_to_encode = list(log.df.select_dtypes(include=\"object\").columns)\n",
    "colums_to_encode.remove(\"id\")\n",
    "print(colums_to_encode)\n",
    "\n",
    "causality.label_encode(log.df, colums_to_encode)\n",
    "\n",
    "log.df.head()"
   ]
  },
  {
   "cell_type": "code",
   "execution_count": null,
   "metadata": {},
   "outputs": [],
   "source": [
    "import elp.encoders as en\n",
    "\n",
    "encoder = en.LogEncoder(\n",
    "    transformers=[\n",
    "        (\"drop\", \"drop\", [\"id\"]),\n",
    "        (\n",
    "            \"keep\",\n",
    "            \"keep\",\n",
    "            [\n",
    "                \"Involved ST Function Div\",\n",
    "                \"Involved Org line 3\",\n",
    "                \"Involved ST\",\n",
    "                \"Status\",\n",
    "                \"Sub Status\",\n",
    "                \"Owner Country\",\n",
    "                \"Owner First Name\",\n",
    "                \"SR Latest Impact\",\n",
    "                \"Product\",\n",
    "                \"Country\",\n",
    "            ],\n",
    "        ),\n",
    "        (\n",
    "            \"timestamp\",\n",
    "            en.TimestampFeatures(\n",
    "                log.id_column,\n",
    "                [\n",
    "                    \"event_order\",\n",
    "                    \"time_from_start\",\n",
    "                    \"time_from_midnight\",\n",
    "                    \"total_time\",\n",
    "                    \"elapsed_time_from_event\",\n",
    "                ],\n",
    "                unit=\"1h\",\n",
    "            ),\n",
    "            [log.timestamp_column],\n",
    "        ),\n",
    "    ]\n",
    ")\n",
    "\n",
    "encoder.check_unused(log)"
   ]
  },
  {
   "cell_type": "code",
   "execution_count": null,
   "metadata": {},
   "outputs": [],
   "source": [
    "dataset = encoder.fit_transform(log)"
   ]
  },
  {
   "cell_type": "code",
   "execution_count": null,
   "metadata": {},
   "outputs": [],
   "source": [
    "dataset"
   ]
  },
  {
   "cell_type": "markdown",
   "metadata": {},
   "source": [
    "### run base experiment"
   ]
  },
  {
   "cell_type": "code",
   "execution_count": null,
   "metadata": {},
   "outputs": [],
   "source": [
    "results_base = causality.run_experiment(\n",
    "    dataset,\n",
    "    target=\"elapsed_time_from_event_timestamp\",\n",
    "    name=\"BPI2013\",\n",
    "    experiment=\"base\",\n",
    ")"
   ]
  },
  {
   "cell_type": "markdown",
   "metadata": {},
   "source": [
    "### causal inference and causal informed prediction"
   ]
  },
  {
   "cell_type": "code",
   "execution_count": null,
   "metadata": {},
   "outputs": [],
   "source": [
    "graph = causality.causal_inference_fci(dataset, \"BPI2013\")"
   ]
  },
  {
   "cell_type": "code",
   "execution_count": null,
   "metadata": {},
   "outputs": [],
   "source": [
    "parents = [\"time_from_start_timestamp\", \"Involved ST\", \"Sub Status\"]\n",
    "parents_of_parents = {\n",
    "    \"time_from_start_timestamp\": [\n",
    "        \"event_order_timestamp\",\n",
    "        \"total_time_timestamp\",\n",
    "        \"Owner Country\",\n",
    "    ],\n",
    "    \"Involved ST\": [\n",
    "        \"Involved ST Function Div\",\n",
    "        \"Involved Org line 3\",\n",
    "        \"SR Latest Impact\",\n",
    "    ],\n",
    "    \"Sub Status\": [\"Status\", \"time_from_midnight_timestamp\"],\n",
    "}\n",
    "parents_2_order = list(parents_of_parents.keys()) + [\n",
    "    item for sublist in parents_of_parents.values() for item in sublist\n",
    "]"
   ]
  },
  {
   "cell_type": "markdown",
   "metadata": {},
   "source": [
    "### run only 1 order parents experiment"
   ]
  },
  {
   "cell_type": "code",
   "execution_count": null,
   "metadata": {},
   "outputs": [],
   "source": [
    "columns = parents + [\"elapsed_time_from_event_timestamp\"]\n",
    "\n",
    "results_1_order_parents = causality.run_experiment(\n",
    "    dataset,\n",
    "    target=\"elapsed_time_from_event_timestamp\",\n",
    "    name=\"BPI2013\",\n",
    "    experiment=\"1_order_parents\",\n",
    "    columns=columns,\n",
    ")"
   ]
  },
  {
   "cell_type": "markdown",
   "metadata": {},
   "source": [
    "### run without parents experiments"
   ]
  },
  {
   "cell_type": "code",
   "execution_count": null,
   "metadata": {},
   "outputs": [],
   "source": [
    "columns = filter(lambda i: i not in parents, dataset.columns.tolist())\n",
    "\n",
    "results_no_parents = causality.run_experiment(\n",
    "    dataset,\n",
    "    target=\"elapsed_time_from_event_timestamp\",\n",
    "    name=\"BPI2013\",\n",
    "    experiment=\"no_parents\",\n",
    "    columns=columns,\n",
    ")"
   ]
  },
  {
   "cell_type": "markdown",
   "metadata": {},
   "source": [
    "### run second order parents experiments"
   ]
  },
  {
   "cell_type": "code",
   "execution_count": null,
   "metadata": {},
   "outputs": [],
   "source": [
    "columns = parents_2_order + [\"elapsed_time_from_event_timestamp\"]\n",
    "\n",
    "results_2_order_parents = causality.run_experiment(\n",
    "    dataset,\n",
    "    target=\"elapsed_time_from_event_timestamp\",\n",
    "    name=\"BPI2013\",\n",
    "    experiment=\"2_order_parents\",\n",
    "    columns=columns,\n",
    ")"
   ]
  }
 ],
 "metadata": {
  "kernelspec": {
   "display_name": ".venv",
   "language": "python",
   "name": "python3"
  },
  "language_info": {
   "codemirror_mode": {
    "name": "ipython",
    "version": 3
   },
   "file_extension": ".py",
   "mimetype": "text/x-python",
   "name": "python",
   "nbconvert_exporter": "python",
   "pygments_lexer": "ipython3",
   "version": "3.12.4"
  }
 },
 "nbformat": 4,
 "nbformat_minor": 2
}
