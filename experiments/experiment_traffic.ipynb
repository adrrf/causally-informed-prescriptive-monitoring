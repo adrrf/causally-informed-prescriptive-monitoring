{
 "cells": [
  {
   "cell_type": "markdown",
   "metadata": {},
   "source": [
    "# CAUSAL INFORMED PREDICTIVE MONITORING\n",
    "---\n",
    "## Dataset: Traffic"
   ]
  },
  {
   "cell_type": "markdown",
   "metadata": {},
   "source": [
    "imports"
   ]
  },
  {
   "cell_type": "code",
   "execution_count": null,
   "metadata": {},
   "outputs": [],
   "source": [
    "import pandas as pd\n",
    "import missingno as msno\n",
    "import causality\n",
    "import elp"
   ]
  },
  {
   "cell_type": "markdown",
   "metadata": {},
   "source": [
    "load the data\n"
   ]
  },
  {
   "cell_type": "code",
   "execution_count": null,
   "metadata": {},
   "outputs": [],
   "source": [
    "log = pd.read_csv(\"../data/traffic_fines_1.csv\", sep=\";\", encoding=\"iso-8859-1\")"
   ]
  },
  {
   "cell_type": "code",
   "execution_count": null,
   "metadata": {},
   "outputs": [],
   "source": [
    "log.head()"
   ]
  },
  {
   "cell_type": "code",
   "execution_count": null,
   "metadata": {},
   "outputs": [],
   "source": [
    "log.describe()"
   ]
  },
  {
   "cell_type": "code",
   "execution_count": null,
   "metadata": {},
   "outputs": [],
   "source": [
    "msno.matrix(log)"
   ]
  },
  {
   "cell_type": "code",
   "execution_count": null,
   "metadata": {},
   "outputs": [],
   "source": [
    "log.rename(columns={\"Case ID\": \"id\", \"Complete Timestamp\": \"timestamp\"}, inplace=True)\n",
    "log.head()"
   ]
  },
  {
   "cell_type": "code",
   "execution_count": null,
   "metadata": {},
   "outputs": [],
   "source": [
    "log[\"id\"].describe()"
   ]
  },
  {
   "cell_type": "code",
   "execution_count": null,
   "metadata": {},
   "outputs": [],
   "source": [
    "log[\"timestamp\"] = pd.to_datetime(log[\"timestamp\"])"
   ]
  },
  {
   "cell_type": "code",
   "execution_count": null,
   "metadata": {},
   "outputs": [],
   "source": [
    "selected_year = 2006\n",
    "\n",
    "log_2006 = log[log['timestamp'].dt.year == selected_year]\n",
    "\n",
    "log_other = log[log['timestamp'].dt.year != selected_year]"
   ]
  },
  {
   "cell_type": "code",
   "execution_count": null,
   "metadata": {},
   "outputs": [],
   "source": [
    "ids = log_2006[\"id\"].unique()\n",
    "other_ids = log_other[\"id\"].unique()\n",
    "\n",
    "for selected_id in ids:\n",
    "    if selected_id in other_ids:\n",
    "        log_2006 = log_2006.drop(log_2006[log_2006[\"id\"] == selected_id].index)\n",
    "\n",
    "log = log_2006.reset_index(drop=True)\n",
    "log"
   ]
  },
  {
   "cell_type": "markdown",
   "metadata": {},
   "source": [
    "preprocessing and encode"
   ]
  },
  {
   "cell_type": "code",
   "execution_count": null,
   "metadata": {},
   "outputs": [],
   "source": [
    "log = elp.EventLog(log, \"id\", \"timestamp\")"
   ]
  },
  {
   "cell_type": "code",
   "execution_count": null,
   "metadata": {},
   "outputs": [],
   "source": [
    "log.df.columns"
   ]
  },
  {
   "cell_type": "code",
   "execution_count": null,
   "metadata": {},
   "outputs": [],
   "source": [
    "log.df.head()"
   ]
  },
  {
   "cell_type": "code",
   "execution_count": null,
   "metadata": {},
   "outputs": [],
   "source": [
    "colums_to_encode = list(log.df.select_dtypes(include=\"object\").columns)\n",
    "colums_to_encode.remove(\"id\")\n",
    "colums_to_encode.remove(\"article\")\n",
    "colums_to_encode.remove(\"Resource\")\n",
    "\n",
    "print(colums_to_encode)\n",
    "\n",
    "causality.label_encode(log.df, colums_to_encode)\n",
    "\n",
    "log.df.head()"
   ]
  },
  {
   "cell_type": "code",
   "execution_count": null,
   "metadata": {},
   "outputs": [],
   "source": [
    "log.df[\"article\"].replace(\"other\", float(\"0\"), inplace=True)\n",
    "log.df[\"article\"] = log.df[\"article\"].astype(float)\n",
    "log.df[\"Resource\"].replace(\"other\", float(\"0\"), inplace=True)\n",
    "log.df[\"Resource\"] = log.df[\"Resource\"].astype(float)"
   ]
  },
  {
   "cell_type": "code",
   "execution_count": null,
   "metadata": {},
   "outputs": [],
   "source": [
    "import elp.encoders as en\n",
    "\n",
    "encoder = en.LogEncoder(\n",
    "    transformers=[\n",
    "        (\"drop\", \"drop\", [\"id\"]),\n",
    "        (\n",
    "            \"keep\",\n",
    "            \"keep\",\n",
    "            [\n",
    "                \"article\",\n",
    "                \"vehicleClass\",\n",
    "                \"amount\",\n",
    "                \"points\",\n",
    "                \"Activity\",\n",
    "                \"Resource\",\n",
    "                \"lastSent\",\n",
    "                \"notificationType\",\n",
    "                \"dismissal\",\n",
    "                \"expense\",\n",
    "                \"month\",\n",
    "                \"weekday\",\n",
    "                \"hour\",\n",
    "                \"open_cases\",\n",
    "                \"label\",\n",
    "            ],\n",
    "        ),\n",
    "        (\n",
    "            \"timestamp\",\n",
    "            en.TimestampFeatures(\n",
    "                log.id_column,\n",
    "                [\n",
    "                    \"event_order\",\n",
    "                    \"time_from_start\",\n",
    "                    \"time_from_midnight\",\n",
    "                    \"total_time\",\n",
    "                    \"elapsed_time_from_event\",\n",
    "                ],\n",
    "                unit=\"1h\",\n",
    "            ),\n",
    "            [log.timestamp_column],\n",
    "        ),\n",
    "    ]\n",
    ")\n",
    "\n",
    "encoder.check_unused(log)"
   ]
  },
  {
   "cell_type": "code",
   "execution_count": null,
   "metadata": {},
   "outputs": [],
   "source": [
    "dataset = encoder.fit_transform(log)"
   ]
  },
  {
   "cell_type": "code",
   "execution_count": null,
   "metadata": {},
   "outputs": [],
   "source": [
    "dataset"
   ]
  },
  {
   "cell_type": "markdown",
   "metadata": {},
   "source": [
    "run base experiment"
   ]
  },
  {
   "cell_type": "code",
   "execution_count": null,
   "metadata": {},
   "outputs": [],
   "source": [
    "results_base = causality.run_experiment(\n",
    "    dataset,\n",
    "    target=\"elapsed_time_from_event_timestamp\",\n",
    "    name=\"Traffic\",\n",
    "    experiment=\"base\",\n",
    ")"
   ]
  },
  {
   "cell_type": "markdown",
   "metadata": {},
   "source": [
    "causal inference and causal informed prediction"
   ]
  },
  {
   "cell_type": "code",
   "execution_count": null,
   "metadata": {},
   "outputs": [],
   "source": [
    "graph = causality.causal_inference_fci(dataset, \"Traffic\")"
   ]
  },
  {
   "cell_type": "code",
   "execution_count": null,
   "metadata": {},
   "outputs": [],
   "source": [
    "target_index = dataset.columns.get_loc(\"elapsed_time_from_event_timestamp\")\n",
    "\n",
    "parents_index = causality.get_parents(graph, target_index)\n",
    "\n",
    "parents = dataset.columns[parents_index].tolist()\n",
    "parents"
   ]
  },
  {
   "cell_type": "markdown",
   "metadata": {},
   "source": [
    "run only 1 order parents experiment"
   ]
  },
  {
   "cell_type": "code",
   "execution_count": null,
   "metadata": {},
   "outputs": [],
   "source": [
    "columns = parents + [\"elapsed_time_from_event_timestamp\"]\n",
    "\n",
    "results_1_order_parents = causality.run_experiment(\n",
    "    dataset,\n",
    "    target=\"elapsed_time_from_event_timestamp\",\n",
    "    name=\"Traffic\",\n",
    "    experiment=\"1_order_parents\",\n",
    "    columns=columns,\n",
    ")"
   ]
  },
  {
   "cell_type": "markdown",
   "metadata": {},
   "source": [
    "run without parents experiments"
   ]
  },
  {
   "cell_type": "code",
   "execution_count": null,
   "metadata": {},
   "outputs": [],
   "source": [
    "columns = filter(lambda i: i not in parents, dataset.columns.tolist())\n",
    "\n",
    "results_no_parents = causality.run_experiment(\n",
    "    dataset,\n",
    "    target=\"elapsed_time_from_event_timestamp\",\n",
    "    name=\"Traffic\",\n",
    "    experiment=\"no_parents\",\n",
    "    columns=columns,\n",
    ")"
   ]
  },
  {
   "cell_type": "markdown",
   "metadata": {},
   "source": [
    "run second order parents experiments"
   ]
  },
  {
   "cell_type": "code",
   "execution_count": null,
   "metadata": {},
   "outputs": [],
   "source": [
    "parents_2_order_index = causality.get_parents(graph, target_index, depth=2)\n",
    "parents_2_order = dataset.columns[parents_2_order_index].tolist()\n",
    "parents_2_order"
   ]
  },
  {
   "cell_type": "code",
   "execution_count": null,
   "metadata": {},
   "outputs": [],
   "source": [
    "columns = parents_2_order + [\"elapsed_time_from_event_timestamp\"]\n",
    "\n",
    "results_2_order_parents = causality.run_experiment(\n",
    "    dataset,\n",
    "    target=\"elapsed_time_from_event_timestamp\",\n",
    "    name=\"Traffic\",\n",
    "    experiment=\"2_order_parents\",\n",
    "    columns=columns,\n",
    ")"
   ]
  }
 ],
 "metadata": {
  "kernelspec": {
   "display_name": ".venv",
   "language": "python",
   "name": "python3"
  },
  "language_info": {
   "codemirror_mode": {
    "name": "ipython",
    "version": 3
   },
   "file_extension": ".py",
   "mimetype": "text/x-python",
   "name": "python",
   "nbconvert_exporter": "python",
   "pygments_lexer": "ipython3",
   "version": "3.12.4"
  }
 },
 "nbformat": 4,
 "nbformat_minor": 2
}
